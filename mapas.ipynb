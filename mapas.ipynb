{
 "cells": [
  {
   "cell_type": "code",
   "execution_count": 100,
   "id": "de38cc08",
   "metadata": {},
   "outputs": [],
   "source": [
    "import leafmap\n",
    "import folium\n",
    "import geopandas as gpd\n",
    "import pandas as pd \n",
    "from folium.plugins import HeatMap\n",
    "from folium import Choropleth\n",
    "\n"
   ]
  },
  {
   "cell_type": "code",
   "execution_count": 101,
   "id": "f64de728",
   "metadata": {},
   "outputs": [],
   "source": [
    "df = gpd.read_file(\"./geodata/villadelcerro.shp\")\n",
    "tasasest1 = pd.read_csv('./tasas_data/tasasest1.csv', index_col=0)\n",
    "tasasest2 = pd.read_csv('./tasas_data/tasasest2.csv', index_col=0)\n",
    "tasasest3 = pd.read_csv('./tasas_data/tasasest3.csv', index_col=0)"
   ]
  },
  {
   "cell_type": "code",
   "execution_count": 102,
   "metadata": {},
   "outputs": [],
   "source": [
    "df =df[['CODCOMP_A','geometry']]\n",
    "df['CODCOMP_A'] = df['CODCOMP_A'].astype('Int64')"
   ]
  },
  {
   "cell_type": "code",
   "execution_count": 103,
   "metadata": {},
   "outputs": [],
   "source": [
    "tasasest1 = pd.merge(df, tasasest1, left_on='CODCOMP_A', right_on='codcomp')\n",
    "\n",
    "tasasest2 = pd.merge(df, tasasest2, left_on='CODCOMP_A', right_on='codcomp')\n",
    "\n",
    "tasasest3 = pd.merge(df, tasasest3, left_on='CODCOMP_A', right_on='codcomp')\n"
   ]
  },
  {
   "cell_type": "code",
   "execution_count": 104,
   "id": "8a1df738",
   "metadata": {},
   "outputs": [],
   "source": [
    "tasasest1['CODCOMP_A'] = tasasest1['CODCOMP_A'].astype('string')\n",
    "tasasest1['codcomp'] = tasasest1['codcomp'].astype('string')\n",
    "\n",
    "tasasest2['CODCOMP_A'] = tasasest2['CODCOMP_A'].astype('string')\n",
    "tasasest2['codcomp'] = tasasest2['codcomp'].astype('string')\n",
    "\n",
    "tasasest3['CODCOMP_A'] = tasasest3['CODCOMP_A'].astype('string')\n",
    "tasasest3['codcomp'] = tasasest3['codcomp'].astype('string')"
   ]
  },
  {
   "cell_type": "code",
   "execution_count": 105,
   "metadata": {},
   "outputs": [],
   "source": [
    "tasasest1 = gpd.GeoDataFrame(tasasest1)\n",
    "tasasest2 = gpd.GeoDataFrame(tasasest2)\n",
    "tasasest3 = gpd.GeoDataFrame(tasasest3)"
   ]
  },
  {
   "cell_type": "code",
   "execution_count": 106,
   "id": "07bad5e3",
   "metadata": {},
   "outputs": [],
   "source": [
    "m1 = folium.Map(location=[-34.8840204, -56.2506134], zoom_start=15)\n",
    "m2 = folium.Map(location=[-34.8840204, -56.2506134], zoom_start=15)\n",
    "m3 = folium.Map(location=[-34.8840204, -56.2506134], zoom_start=15)"
   ]
  },
  {
   "cell_type": "code",
   "execution_count": 107,
   "id": "60172409",
   "metadata": {},
   "outputs": [],
   "source": [
    "from branca.colormap import linear\n",
    "colormap = linear.Reds_08.scale(\n",
    "    0, 1\n",
    ")\n",
    "colormap.caption = \"Tasa de Hechas\""
   ]
  },
  {
   "cell_type": "code",
   "execution_count": 108,
   "metadata": {},
   "outputs": [],
   "source": [
    "def crear_mapa(tasasest, tasasH, tasasMA, tasasR, location, zoom_start=15):\n",
    "    m = folium.Map(location=location, zoom_start=zoom_start)\n",
    "    geojson_layer = folium.GeoJson(\n",
    "        tasasest,\n",
    "        style_function=lambda feature: {\n",
    "            \"fillColor\": colormap(feature['properties'][tasasH])\n",
    "            if feature['properties'][tasasH] is not None\n",
    "            else \"transparent\",\n",
    "            \"color\": \"black\",\n",
    "            \"weight\": 2,\n",
    "            \"dashArray\": None,\n",
    "            \"fillOpacity\": 0.5,  # Ajusta la opacidad según sea necesario\n",
    "        },\n",
    "        popup=folium.GeoJsonPopup(\n",
    "            fields=['codcomp', tasasH, tasasMA, tasasR],\n",
    "            aliases=['Codcomp', 'Tasa de Hechos', 'Tasa de Morador Ausente', 'Tasa de rechazos'],\n",
    "            localize=True,\n",
    "            labels=True,\n",
    "            style=\"background-color: yellow;\",\n",
    "        ),\n",
    "        tooltip=folium.GeoJsonTooltip(\n",
    "            fields=['codcomp', tasasH, tasasMA, tasasR],\n",
    "            aliases=['Codcomp:', 'Tasa de Hechos:', 'Tasa de Morador Ausente:', 'Tasa de rechazos:'],\n",
    "            localize=True,\n",
    "            sticky=False,\n",
    "            labels=True,\n",
    "            style=\"\"\"\n",
    "                background-color: #F0EFEF;\n",
    "                border: 2px solid black;\n",
    "                border-radius: 3px;\n",
    "                box-shadow: 3px;\n",
    "            \"\"\",\n",
    "            max_width=800,\n",
    "        ),\n",
    "    ).add_to(m)\n",
    "    colormap.add_to(m)\n",
    "    return m\n",
    "location = [-34.8840204, -56.2506134]"
   ]
  },
  {
   "cell_type": "code",
   "execution_count": 109,
   "id": "08879884",
   "metadata": {},
   "outputs": [],
   "source": [
    "m1 = crear_mapa(tasasest1, 'tasaH1', 'tasaMA1', 'tasaR1', location)\n",
    "m1.save('./mapas_html/mapa1.html')"
   ]
  },
  {
   "cell_type": "code",
   "execution_count": 110,
   "id": "2cdbdceb",
   "metadata": {},
   "outputs": [],
   "source": [
    "m2 = crear_mapa(tasasest2, 'tasaH2', 'tasaMA2', 'tasaR2', location)\n",
    "m2.save('./mapas_html/mapa2.html')"
   ]
  },
  {
   "cell_type": "code",
   "execution_count": 111,
   "id": "bb0f6f34",
   "metadata": {},
   "outputs": [],
   "source": [
    "m3 = crear_mapa(tasasest3, 'tasaH3', 'tasaMA3', 'tasaR3', location)\n",
    "m3.save('./mapas_html/mapa3.html')"
   ]
  }
 ],
 "metadata": {
  "kernelspec": {
   "display_name": "Python 3 (ipykernel)",
   "language": "python",
   "name": "python3"
  },
  "language_info": {
   "codemirror_mode": {
    "name": "ipython",
    "version": 3
   },
   "file_extension": ".py",
   "mimetype": "text/x-python",
   "name": "python",
   "nbconvert_exporter": "python",
   "pygments_lexer": "ipython3",
   "version": "3.11.1"
  }
 },
 "nbformat": 4,
 "nbformat_minor": 5
}
